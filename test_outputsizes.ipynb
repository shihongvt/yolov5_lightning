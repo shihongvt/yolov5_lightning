{
 "cells": [
  {
   "cell_type": "code",
   "execution_count": 9,
   "metadata": {},
   "outputs": [
    {
     "ename": "ModuleNotFoundError",
     "evalue": "No module named 'ultralytics.utils'",
     "output_type": "error",
     "traceback": [
      "\u001b[0;31m---------------------------------------------------------------------------\u001b[0m",
      "\u001b[0;31mModuleNotFoundError\u001b[0m                       Traceback (most recent call last)",
      "Cell \u001b[0;32mIn[9], line 5\u001b[0m\n\u001b[1;32m      2\u001b[0m sys\u001b[39m.\u001b[39mpath\u001b[39m.\u001b[39mappend(\u001b[39m'\u001b[39m\u001b[39m/shihong/project/yolov5_lightning\u001b[39m\u001b[39m'\u001b[39m)\n\u001b[1;32m      4\u001b[0m \u001b[39mimport\u001b[39;00m \u001b[39mtorch\u001b[39;00m\n\u001b[0;32m----> 5\u001b[0m \u001b[39mfrom\u001b[39;00m \u001b[39mmodels\u001b[39;00m\u001b[39m.\u001b[39;00m\u001b[39myolo\u001b[39;00m \u001b[39mimport\u001b[39;00m Model  \n\u001b[1;32m      7\u001b[0m \u001b[39mdef\u001b[39;00m \u001b[39mhook_fn\u001b[39m(module, \u001b[39minput\u001b[39m, output):\n\u001b[1;32m      8\u001b[0m     \u001b[39mprint\u001b[39m(\u001b[39m\"\u001b[39m\u001b[39mOutput shape:\u001b[39m\u001b[39m\"\u001b[39m, output\u001b[39m.\u001b[39mshape)\n",
      "File \u001b[0;32m~/project/yolov5_lightning/models/yolo.py:24\u001b[0m\n\u001b[1;32m     21\u001b[0m \u001b[39mif\u001b[39;00m platform\u001b[39m.\u001b[39msystem() \u001b[39m!=\u001b[39m \u001b[39m'\u001b[39m\u001b[39mWindows\u001b[39m\u001b[39m'\u001b[39m:\n\u001b[1;32m     22\u001b[0m     ROOT \u001b[39m=\u001b[39m Path(os\u001b[39m.\u001b[39mpath\u001b[39m.\u001b[39mrelpath(ROOT, Path\u001b[39m.\u001b[39mcwd()))  \u001b[39m# relative\u001b[39;00m\n\u001b[0;32m---> 24\u001b[0m \u001b[39mfrom\u001b[39;00m \u001b[39mmodels\u001b[39;00m\u001b[39m.\u001b[39;00m\u001b[39mcommon\u001b[39;00m \u001b[39mimport\u001b[39;00m SomeSpecificClassOrFunction  \u001b[39m# replace with actual names\u001b[39;00m\n\u001b[1;32m     25\u001b[0m \u001b[39mfrom\u001b[39;00m \u001b[39mmodels\u001b[39;00m\u001b[39m.\u001b[39;00m\u001b[39mexperimental\u001b[39;00m \u001b[39mimport\u001b[39;00m AnotherSpecificClassOrFunction  \u001b[39m# replace with actual names\u001b[39;00m\n\u001b[1;32m     26\u001b[0m \u001b[39mfrom\u001b[39;00m \u001b[39mutils\u001b[39;00m\u001b[39m.\u001b[39;00m\u001b[39mautoanchor\u001b[39;00m \u001b[39mimport\u001b[39;00m check_anchor_order\n",
      "File \u001b[0;32m~/project/yolov5_lightning/models/common.py:39\u001b[0m\n\u001b[1;32m     37\u001b[0m     os\u001b[39m.\u001b[39msystem(\u001b[39m'\u001b[39m\u001b[39mpip install -U ultralytics\u001b[39m\u001b[39m'\u001b[39m)\n\u001b[1;32m     38\u001b[0m     \u001b[39mimport\u001b[39;00m \u001b[39multralytics\u001b[39;00m\n\u001b[0;32m---> 39\u001b[0m \u001b[39mfrom\u001b[39;00m \u001b[39multralytics\u001b[39;00m\u001b[39m.\u001b[39;00m\u001b[39mutils\u001b[39;00m\u001b[39m.\u001b[39;00m\u001b[39mplotting\u001b[39;00m \u001b[39mimport\u001b[39;00m Annotator, colors, save_one_box\n\u001b[1;32m     41\u001b[0m \u001b[39mfrom\u001b[39;00m \u001b[39mutils\u001b[39;00m \u001b[39mimport\u001b[39;00m TryExcept\n\u001b[1;32m     42\u001b[0m \u001b[39mfrom\u001b[39;00m \u001b[39mutils\u001b[39;00m\u001b[39m.\u001b[39;00m\u001b[39mdataloaders\u001b[39;00m \u001b[39mimport\u001b[39;00m exif_transpose, letterbox\n",
      "\u001b[0;31mModuleNotFoundError\u001b[0m: No module named 'ultralytics.utils'"
     ]
    }
   ],
   "source": [
    "import sys\n",
    "sys.path.append('/shihong/project/yolov5_lightning')\n",
    "\n",
    "import torch\n",
    "from models.yolo import Model  \n",
    "\n",
    "def hook_fn(module, input, output):\n",
    "    print(\"Output shape:\", output.shape)\n",
    "\n",
    "model = Model('models/yolov5s.yaml')\n",
    "model.initialize()  \n",
    "\n",
    "target_layer = model.model[-2]\n",
    "hook = target_layer.register_forward_hook(hook_fn)\n",
    "\n",
    "x = torch.randn(1, 3, 640, 640)\n",
    "out = model(x)\n",
    "\n",
    "\n"
   ]
  },
  {
   "cell_type": "code",
   "execution_count": 8,
   "metadata": {},
   "outputs": [
    {
     "name": "stdout",
     "output_type": "stream",
     "text": [
      "Requirement already satisfied: ultralytics in /home/shihong/miniconda3/envs/torch/lib/python3.10/site-packages (8.0.109)\n",
      "Requirement already satisfied: opencv-python>=4.6.0 in /home/shihong/miniconda3/envs/torch/lib/python3.10/site-packages (from ultralytics) (4.7.0.72)\n",
      "Requirement already satisfied: requests>=2.23.0 in /home/shihong/miniconda3/envs/torch/lib/python3.10/site-packages (from ultralytics) (2.28.1)\n",
      "Requirement already satisfied: sentry-sdk in /home/shihong/miniconda3/envs/torch/lib/python3.10/site-packages (from ultralytics) (1.24.0)\n",
      "Requirement already satisfied: psutil in /home/shihong/miniconda3/envs/torch/lib/python3.10/site-packages (from ultralytics) (5.9.0)\n",
      "Requirement already satisfied: tqdm>=4.64.0 in /home/shihong/miniconda3/envs/torch/lib/python3.10/site-packages (from ultralytics) (4.65.0)\n",
      "Requirement already satisfied: scipy>=1.4.1 in /home/shihong/miniconda3/envs/torch/lib/python3.10/site-packages (from ultralytics) (1.10.1)\n",
      "Requirement already satisfied: matplotlib>=3.2.2 in /home/shihong/miniconda3/envs/torch/lib/python3.10/site-packages (from ultralytics) (3.7.1)\n",
      "Requirement already satisfied: pandas>=1.1.4 in /home/shihong/miniconda3/envs/torch/lib/python3.10/site-packages (from ultralytics) (2.0.0)\n",
      "Requirement already satisfied: seaborn>=0.11.0 in /home/shihong/miniconda3/envs/torch/lib/python3.10/site-packages (from ultralytics) (0.12.2)\n",
      "Requirement already satisfied: Pillow>=7.1.2 in /home/shihong/miniconda3/envs/torch/lib/python3.10/site-packages (from ultralytics) (9.4.0)\n",
      "Requirement already satisfied: torch>=1.7.0 in /home/shihong/miniconda3/envs/torch/lib/python3.10/site-packages (from ultralytics) (2.0.1)\n",
      "Requirement already satisfied: PyYAML>=5.3.1 in /home/shihong/miniconda3/envs/torch/lib/python3.10/site-packages (from ultralytics) (6.0)\n",
      "Requirement already satisfied: torchvision>=0.8.1 in /home/shihong/miniconda3/envs/torch/lib/python3.10/site-packages (from ultralytics) (0.15.2)\n",
      "Requirement already satisfied: kiwisolver>=1.0.1 in /home/shihong/miniconda3/envs/torch/lib/python3.10/site-packages (from matplotlib>=3.2.2->ultralytics) (1.4.4)\n",
      "Requirement already satisfied: fonttools>=4.22.0 in /home/shihong/miniconda3/envs/torch/lib/python3.10/site-packages (from matplotlib>=3.2.2->ultralytics) (4.39.3)\n",
      "Requirement already satisfied: python-dateutil>=2.7 in /home/shihong/miniconda3/envs/torch/lib/python3.10/site-packages (from matplotlib>=3.2.2->ultralytics) (2.8.2)\n",
      "Requirement already satisfied: contourpy>=1.0.1 in /home/shihong/miniconda3/envs/torch/lib/python3.10/site-packages (from matplotlib>=3.2.2->ultralytics) (1.0.7)\n",
      "Requirement already satisfied: pyparsing>=2.3.1 in /home/shihong/miniconda3/envs/torch/lib/python3.10/site-packages (from matplotlib>=3.2.2->ultralytics) (2.4.7)\n",
      "Requirement already satisfied: numpy>=1.20 in /home/shihong/miniconda3/envs/torch/lib/python3.10/site-packages (from matplotlib>=3.2.2->ultralytics) (1.23.5)\n",
      "Requirement already satisfied: packaging>=20.0 in /home/shihong/miniconda3/envs/torch/lib/python3.10/site-packages (from matplotlib>=3.2.2->ultralytics) (23.1)\n",
      "Requirement already satisfied: cycler>=0.10 in /home/shihong/miniconda3/envs/torch/lib/python3.10/site-packages (from matplotlib>=3.2.2->ultralytics) (0.10.0)\n",
      "Requirement already satisfied: tzdata>=2022.1 in /home/shihong/miniconda3/envs/torch/lib/python3.10/site-packages (from pandas>=1.1.4->ultralytics) (2023.3)\n",
      "Requirement already satisfied: pytz>=2020.1 in /home/shihong/miniconda3/envs/torch/lib/python3.10/site-packages (from pandas>=1.1.4->ultralytics) (2023.3)\n",
      "Requirement already satisfied: idna<4,>=2.5 in /home/shihong/miniconda3/envs/torch/lib/python3.10/site-packages (from requests>=2.23.0->ultralytics) (2.10)\n",
      "Requirement already satisfied: charset-normalizer<3,>=2 in /home/shihong/miniconda3/envs/torch/lib/python3.10/site-packages (from requests>=2.23.0->ultralytics) (2.0.4)\n",
      "Requirement already satisfied: certifi>=2017.4.17 in /home/shihong/miniconda3/envs/torch/lib/python3.10/site-packages (from requests>=2.23.0->ultralytics) (2023.5.7)\n",
      "Requirement already satisfied: urllib3<1.27,>=1.21.1 in /home/shihong/miniconda3/envs/torch/lib/python3.10/site-packages (from requests>=2.23.0->ultralytics) (1.26.15)\n",
      "Requirement already satisfied: nvidia-curand-cu11==10.2.10.91 in /home/shihong/miniconda3/envs/torch/lib/python3.10/site-packages (from torch>=1.7.0->ultralytics) (10.2.10.91)\n",
      "Requirement already satisfied: filelock in /home/shihong/miniconda3/envs/torch/lib/python3.10/site-packages (from torch>=1.7.0->ultralytics) (3.9.0)\n",
      "Requirement already satisfied: nvidia-cuda-nvrtc-cu11==11.7.99 in /home/shihong/miniconda3/envs/torch/lib/python3.10/site-packages (from torch>=1.7.0->ultralytics) (11.7.99)\n",
      "Requirement already satisfied: nvidia-cufft-cu11==10.9.0.58 in /home/shihong/miniconda3/envs/torch/lib/python3.10/site-packages (from torch>=1.7.0->ultralytics) (10.9.0.58)\n",
      "Requirement already satisfied: nvidia-nvtx-cu11==11.7.91 in /home/shihong/miniconda3/envs/torch/lib/python3.10/site-packages (from torch>=1.7.0->ultralytics) (11.7.91)\n",
      "Requirement already satisfied: nvidia-cuda-cupti-cu11==11.7.101 in /home/shihong/miniconda3/envs/torch/lib/python3.10/site-packages (from torch>=1.7.0->ultralytics) (11.7.101)\n",
      "Requirement already satisfied: jinja2 in /home/shihong/miniconda3/envs/torch/lib/python3.10/site-packages (from torch>=1.7.0->ultralytics) (3.1.2)\n",
      "Requirement already satisfied: typing-extensions in /home/shihong/miniconda3/envs/torch/lib/python3.10/site-packages (from torch>=1.7.0->ultralytics) (4.7.1)\n",
      "Requirement already satisfied: nvidia-cusolver-cu11==11.4.0.1 in /home/shihong/miniconda3/envs/torch/lib/python3.10/site-packages (from torch>=1.7.0->ultralytics) (11.4.0.1)\n",
      "Requirement already satisfied: nvidia-cusparse-cu11==11.7.4.91 in /home/shihong/miniconda3/envs/torch/lib/python3.10/site-packages (from torch>=1.7.0->ultralytics) (11.7.4.91)\n",
      "Requirement already satisfied: nvidia-cuda-runtime-cu11==11.7.99 in /home/shihong/miniconda3/envs/torch/lib/python3.10/site-packages (from torch>=1.7.0->ultralytics) (11.7.99)\n",
      "Requirement already satisfied: sympy in /home/shihong/miniconda3/envs/torch/lib/python3.10/site-packages (from torch>=1.7.0->ultralytics) (1.11.1)\n",
      "Requirement already satisfied: nvidia-cudnn-cu11==8.5.0.96 in /home/shihong/miniconda3/envs/torch/lib/python3.10/site-packages (from torch>=1.7.0->ultralytics) (8.5.0.96)\n",
      "Requirement already satisfied: networkx in /home/shihong/miniconda3/envs/torch/lib/python3.10/site-packages (from torch>=1.7.0->ultralytics) (2.8.4)\n",
      "Requirement already satisfied: nvidia-cublas-cu11==11.10.3.66 in /home/shihong/miniconda3/envs/torch/lib/python3.10/site-packages (from torch>=1.7.0->ultralytics) (11.10.3.66)\n",
      "Requirement already satisfied: nvidia-nccl-cu11==2.14.3 in /home/shihong/miniconda3/envs/torch/lib/python3.10/site-packages (from torch>=1.7.0->ultralytics) (2.14.3)\n",
      "Requirement already satisfied: triton==2.0.0 in /home/shihong/miniconda3/envs/torch/lib/python3.10/site-packages (from torch>=1.7.0->ultralytics) (2.0.0)\n",
      "Requirement already satisfied: setuptools in /home/shihong/miniconda3/envs/torch/lib/python3.10/site-packages (from nvidia-cublas-cu11==11.10.3.66->torch>=1.7.0->ultralytics) (66.0.0)\n",
      "Requirement already satisfied: wheel in /home/shihong/miniconda3/envs/torch/lib/python3.10/site-packages (from nvidia-cublas-cu11==11.10.3.66->torch>=1.7.0->ultralytics) (0.38.4)\n",
      "Requirement already satisfied: cmake in /home/shihong/miniconda3/envs/torch/lib/python3.10/site-packages (from triton==2.0.0->torch>=1.7.0->ultralytics) (3.26.3)\n",
      "Requirement already satisfied: lit in /home/shihong/miniconda3/envs/torch/lib/python3.10/site-packages (from triton==2.0.0->torch>=1.7.0->ultralytics) (16.0.5)\n",
      "Requirement already satisfied: six in /home/shihong/miniconda3/envs/torch/lib/python3.10/site-packages (from cycler>=0.10->matplotlib>=3.2.2->ultralytics) (1.16.0)\n",
      "Requirement already satisfied: MarkupSafe>=2.0 in /home/shihong/miniconda3/envs/torch/lib/python3.10/site-packages (from jinja2->torch>=1.7.0->ultralytics) (2.1.1)\n",
      "Requirement already satisfied: mpmath>=0.19 in /home/shihong/miniconda3/envs/torch/lib/python3.10/site-packages/mpmath-1.2.1-py3.10.egg (from sympy->torch>=1.7.0->ultralytics) (1.2.1)\n"
     ]
    }
   ],
   "source": [
    "!pip install ultralytics"
   ]
  }
 ],
 "metadata": {
  "kernelspec": {
   "display_name": "torch",
   "language": "python",
   "name": "python3"
  },
  "language_info": {
   "codemirror_mode": {
    "name": "ipython",
    "version": 3
   },
   "file_extension": ".py",
   "mimetype": "text/x-python",
   "name": "python",
   "nbconvert_exporter": "python",
   "pygments_lexer": "ipython3",
   "version": "3.10.10"
  },
  "orig_nbformat": 4
 },
 "nbformat": 4,
 "nbformat_minor": 2
}
